{
 "cells": [
  {
   "cell_type": "code",
   "execution_count": 15,
   "metadata": {},
   "outputs": [],
   "source": [
    "import csv\n",
    "import random"
   ]
  },
  {
   "cell_type": "code",
   "execution_count": 44,
   "metadata": {},
   "outputs": [],
   "source": [
    "def genuid (i):\n",
    "    uid = []\n",
    "    for j in range(3) :\n",
    "        uid.append(chr(random.randint(65,65+26)))\n",
    "    uid.append(str(i))\n",
    "    for j in range(10-len(uid)) :\n",
    "        uid.append(str(random.randint(0,9)))\n",
    "    return \"\".join(uid)"
   ]
  },
  {
   "cell_type": "code",
   "execution_count": 49,
   "metadata": {},
   "outputs": [],
   "source": [
    "N = 10000\n",
    "f = open('Database.csv','w')\n",
    "csvout = csv.writer(f)\n",
    "fields = [\"Agent ID\", \"Net monthly income (c)\", \"Initial Reserve (u)\",'Shock Rate (β)', \"Mean Shock Size distribution (μ)\"]\n",
    "csvout.writerow(fields)\n",
    "for i in range(N) :\n",
    "    csvout.writerow([genuid(i),'c','u','b','u'])\n",
    "f.close()"
   ]
  }
 ],
 "metadata": {
  "kernelspec": {
   "display_name": "Python 3",
   "language": "python",
   "name": "python3"
  },
  "language_info": {
   "codemirror_mode": {
    "name": "ipython",
    "version": 3
   },
   "file_extension": ".py",
   "mimetype": "text/x-python",
   "name": "python",
   "nbconvert_exporter": "python",
   "pygments_lexer": "ipython3",
   "version": "3.7.4"
  }
 },
 "nbformat": 4,
 "nbformat_minor": 4
}
