{
 "cells": [
  {
   "cell_type": "code",
   "execution_count": 2,
   "metadata": {},
   "outputs": [],
   "source": [
    "def genuid (i):\n",
    "    uid = []\n",
    "    for j in range(3) :\n",
    "        uid.append(chr(random.randint(65,90)))\n",
    "    uid.append(str(i))\n",
    "    for j in range(10-len(uid)) :\n",
    "        uid.append(str(random.randint(0,9)))\n",
    "    return \"\".join(uid)"
   ]
  },
  {
   "cell_type": "code",
   "execution_count": 30,
   "metadata": {},
   "outputs": [],
   "source": [
    "def generate_data(N) :\n",
    "    import csv\n",
    "    import random\n",
    "    f = open('Database.csv','w')\n",
    "    csvout = csv.writer(f)\n",
    "    data = []\n",
    "    fields = [\"Agent ID\", \"Net monthly income\", \"Initial Reserve\",'Shock Rate', \"Mean Shock Size distribution\", \"Ruin Probability\"]\n",
    "    csvout.writerow(fields)\n",
    "    for i in range(N) :\n",
    "        c = random.randint(1,1000)\n",
    "        u = random.randint(0,1000)\n",
    "        if u == 0 :\n",
    "            μ = random.random()*c\n",
    "            β = (random.random()*c/μ)\n",
    "            Ψ = β*μ/c\n",
    "        else :\n",
    "            μ = random.random()*u\n",
    "            β = random.random()*(u*c)/μ\n",
    "            Ψ = (β*μ)/(u*c)\n",
    "        data.append([genuid(i),c,u,β,μ,Ψ])\n",
    "    csvout.writerows(data)\n",
    "    f.close()"
   ]
  },
  {
   "cell_type": "code",
   "execution_count": 79,
   "metadata": {
    "tags": []
   },
   "outputs": [],
   "source": [
    "def sort_data(basis) :\n",
    "    import pandas as pd\n",
    "    f = open('Database.csv','r')\n",
    "    data = pd.read_csv(f)\n",
    "    sorteddata = data.sort_values(by=[basis],ascending=False)\n",
    "    f.close()\n",
    "    sorteddata.index = data.index\n",
    "    return sorteddata.values.tolist()"
   ]
  },
  {
   "cell_type": "code",
   "execution_count": 160,
   "metadata": {
    "tags": []
   },
   "outputs": [],
   "source": [
    "def subsidy (goal,current=0) :\n",
    "    global sorteddata,xi\n",
    "    xi = []\n",
    "    sdc = sorteddata[current]\n",
    "    sdg = sorteddata[goal]\n",
    "    while current < goal and (sdg[-1]-sdc[-1]) < 0:\n",
    "        sdc = sorteddata[current]\n",
    "        if sorteddata[current][2] == 0 :\n",
    "            xi.append((sdc[3]*sdc[4]/sdg[-1]) - sdc[1])\n",
    "        else :\n",
    "            xi.append(((sdc[3]*sdc[4])/(sdg[-1]*sdc[2])) - sdc[1])\n",
    "        current+=1\n",
    "    return sum(xi)"
   ]
  },
  {
   "cell_type": "code",
   "execution_count": 240,
   "metadata": {},
   "outputs": [],
   "source": [
    "def HowManyBenefit(n, target):\n",
    "\tglobal xi\n",
    "\t# Corner cases\n",
    "\tif (target <= subsidy(1)):\n",
    "\t\treturn 0\n",
    "\tif target >= subsidy(n - 1):\n",
    "\t\treturn (n - 1)\n",
    "\n",
    "\t# Doing binary search\n",
    "\ti = 0; j = n; mid = 0\n",
    "\twhile (i < j):\n",
    "\t\tmid = (i + j) // 2\n",
    "\t\tsm = subsidy(mid)\n",
    "\t\ttempsub = xi\n",
    "\n",
    "\t\tif (sm == target):\n",
    "\t\t\treturn mid\n",
    "\n",
    "\t\t# If target is less than total subsidy\n",
    "\t\t# then search in left\n",
    "\t\tif (target < sm) :\n",
    "\n",
    "\t\t\t# If target is greater than previous\n",
    "\t\t\t# to mid, return lesser of two\n",
    "\t\t\tif (mid > 0 and target > subsidy(mid - 1)):\n",
    "\t\t\t\treturn mid-1\n",
    "\n",
    "\t\t\t# Repeat for left half\n",
    "\t\t\tj = mid\n",
    "\t\t\n",
    "\t\t# If target is greater than mid\n",
    "\t\telse :\n",
    "\t\t\t\n",
    "\t\t\tif (mid < n - 1 and target < subsidy(mid + 1)):\n",
    "\t\t\t\txi = tempsub\n",
    "\t\t\t\treturn mid\n",
    "\t\t\t\t\n",
    "\t\t\t# update i\n",
    "\t\t\ti = mid + 1\n",
    "\n",
    "\treturn mid"
   ]
  },
  {
   "cell_type": "code",
   "execution_count": 266,
   "metadata": {
    "tags": []
   },
   "outputs": [],
   "source": [
    "def viewresults() :\n",
    "    global xi, sorteddata\n",
    "    import matplotlib.pyplot as plt\n",
    "    plt.style.use(\"dark_background\")\n",
    "    plt.scatter(range(N),[sorteddata[i][-1] for i in range(N)],color='r')\n",
    "    plt.ylabel(\"Ruin probability\")\n",
    "    plt.xlabel(\"Agent number\")\n",
    "    plt.title(\"RP before allocation\")\n",
    "    plt.show()\n",
    "    rp = []\n",
    "    for i in range(len(xi)) :\n",
    "        sd = sorteddata[i]\n",
    "        if sd[2] == 0 :\n",
    "            rp.append((sd[3]*sd[4])/(sd[1]+xi[i]))\n",
    "        else :\n",
    "            rp.append((sd[3]*sd[4])/(sd[2]*(sd[1]+xi[i])))\n",
    "    for i in range(len(xi),len(sorteddata),1) :\n",
    "        rp.append(sorteddata[i][-1])\n",
    "    plt.ylim(0,1)\n",
    "    plt.scatter(range(N),rp,color='r')\n",
    "    plt.scatter(len(xi)-1,sd[-1],color='g')\n",
    "    plt.ylabel(\"Ruin probability\")\n",
    "    plt.xlabel(\"Agent number\")\n",
    "    plt.title(\"RP after allocation\")\n",
    "    plt.show()"
   ]
  },
  {
   "cell_type": "markdown",
   "metadata": {},
   "source": [
    "### What is the Budget required to help p agents"
   ]
  },
  {
   "cell_type": "code",
   "execution_count": 268,
   "metadata": {},
   "outputs": [
    {
     "name": "stdout",
     "output_type": "stream",
     "text": [
      "We need a budget of 1237227.416647224 units to help 5000 agents\n"
     ]
    }
   ],
   "source": [
    "p = 5000\n",
    "print(f\"We need a budget of {subsidy(p)} units to help {p} agents\")"
   ]
  },
  {
   "cell_type": "markdown",
   "metadata": {},
   "source": [
    "### How many agents can we help with given Budget"
   ]
  },
  {
   "cell_type": "code",
   "execution_count": 3,
   "metadata": {
    "tags": []
   },
   "outputs": [
    {
     "name": "stdout",
     "output_type": "stream",
     "text": [
      "With a budget of 50000 units we can help 1304 agents\n"
     ]
    }
   ],
   "source": [
    "N = 10000\n",
    "Budget = 50000\n",
    "print(f\"With a budget of {Budget} units we can help {Pegasus.HowManyBenefit(N,Budget)} agents\")"
   ]
  },
  {
   "cell_type": "markdown",
   "metadata": {},
   "source": [
    "### View Results"
   ]
  },
  {
   "cell_type": "code",
   "execution_count": 269,
   "metadata": {
    "tags": []
   },
   "outputs": [
    {
     "data": {
      "image/png": "[encoded data removed]",
      "text/plain": [
       "<Figure size 432x288 with 1 Axes>"
      ]
     },
     "metadata": {},
     "output_type": "display_data"
    },
    {
     "data": {
      "image/png": "[encoded data removed]",
      "text/plain": [
       "<Figure size 432x288 with 1 Axes>"
      ]
     },
     "metadata": {},
     "output_type": "display_data"
    }
   ],
   "source": [
    "viewresults()"
   ]
  },
  {
   "cell_type": "code",
   "execution_count": 1,
   "metadata": {},
   "outputs": [
    {
     "name": "stdout",
     "output_type": "stream",
     "text": [
      "True\n"
     ]
    },
    {
     "data": {
      "text/plain": [
       "29539.032373339945"
      ]
     },
     "execution_count": 1,
     "metadata": {},
     "output_type": "execute_result"
    }
   ],
   "source": [
    "import Pegasus\n",
    "filename = 'Database.csv'\n",
    "Pegasus.sort_data(filename,'Ruin Probability')\n",
    "p = 1000\n",
    "Pegasus.subsidy(p)"
   ]
  },
  {
   "cell_type": "code",
   "execution_count": 4,
   "metadata": {},
   "outputs": [
    {
     "name": "stdout",
     "output_type": "stream",
     "text": [
      "1\n",
      "4\n"
     ]
    }
   ],
   "source": [
    "k = 4\n",
    "def juju (n) :\n",
    "    k = n\n",
    "    print(k)\n",
    "def hulu () :\n",
    "    print(k)\n",
    "juju(1)\n",
    "hulu()"
   ]
  },
  {
   "cell_type": "code",
   "execution_count": 3,
   "metadata": {},
   "outputs": [
    {
     "ename": "NameError",
     "evalue": "name 'm' is not defined",
     "output_type": "error",
     "traceback": [
      "\u001b[0;31m---------------------------------------------------------------------------\u001b[0m",
      "\u001b[0;31mNameError\u001b[0m                                 Traceback (most recent call last)",
      "\u001b[0;32m<ipython-input-3-b1bda3ba9a12>\u001b[0m in \u001b[0;36m<module>\u001b[0;34m\u001b[0m\n\u001b[1;32m      1\u001b[0m \u001b[0;32mglobal\u001b[0m \u001b[0mm\u001b[0m\u001b[0;34m\u001b[0m\u001b[0;34m\u001b[0m\u001b[0m\n\u001b[0;32m----> 2\u001b[0;31m \u001b[0mm\u001b[0m\u001b[0;34m\u001b[0m\u001b[0;34m\u001b[0m\u001b[0m\n\u001b[0m",
      "\u001b[0;31mNameError\u001b[0m: name 'm' is not defined"
     ]
    }
   ],
   "source": [
    "global m\n",
    "m"
   ]
  },
  {
   "cell_type": "code",
   "execution_count": null,
   "metadata": {},
   "outputs": [],
   "source": []
  }
 ],
 "metadata": {
  "kernelspec": {
   "display_name": "Python 3",
   "language": "python",
   "name": "python3"
  },
  "language_info": {
   "codemirror_mode": {
    "name": "ipython",
    "version": 3
   },
   "file_extension": ".py",
   "mimetype": "text/x-python",
   "name": "python",
   "nbconvert_exporter": "python",
   "pygments_lexer": "ipython3",
   "version": "3.7.4"
  }
 },
 "nbformat": 4,
 "nbformat_minor": 4
}
